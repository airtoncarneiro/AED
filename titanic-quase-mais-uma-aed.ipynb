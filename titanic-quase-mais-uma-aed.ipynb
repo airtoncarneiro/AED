{
 "cells": [
  {
   "cell_type": "markdown",
   "id": "10e5adee",
   "metadata": {
    "papermill": {
     "duration": 0.021539,
     "end_time": "2022-01-30T20:20:57.842494",
     "exception": false,
     "start_time": "2022-01-30T20:20:57.820955",
     "status": "completed"
    },
    "tags": []
   },
   "source": [
    "# **(Quase) mais uma Análise Exploratória de Dados sobre o Titanic**\n",
    "\n",
    "![titanic](https://mega.ibxk.com.br//2021/04/16/16095209780079.jpg?ims=1920x480)\n",
    "\n",
    "A idéia deste trabalho surgiu numa aula de curso de Data Science em que usamos o dataset do Titanic. Nos meus estudos particulares eu sempre relutei em usá-lo porque ele é que nem o *gremlins*: à todo o momento aparecem uns trocentos. Então... eu não queria ser \"mais um\".\n",
    "Mas na aula eu não pude fugir. Enquanto nos era apresentado o dataset e a turma interagia com perguntas e suposições, eu fiquei pensando o que eu poderia fazer de diferente e, naquele dia, nasceu o esboço na minha mente e aqui, após algumas pesquisas, nasce a materialização do meu jeito de fazer diferente.  \n",
    "Assim, apresento aqui a Análise Exploratória deste dataset com um pouco do meu toque.\n",
    "\n",
    "---\n",
    "\n",
    "## Sobre o Dataset\n",
    "\n",
    "Este dataset foi disponilizado no [Kaggle](https://www.kaggle.com/c/titanic) em 2012 para uma competição de aprendizado de máquina para prever quais pessoas sobreviveram e ele possui as seguintes informações*:\n",
    "\n",
    "| Coluna | Descrição | Valor Esperado | Observação |\n",
    "| -- | -- | -- | -- |\n",
    "| pclass | Classe do Ticket | 1 = 1ª<br> 2 = 2ª<br> 3 = 3ª | |\n",
    "| name | Nome do passageiro | | |\n",
    "| sex | Sexo | | |\n",
    "| Age | Idade (em anos) e frações de meses | |Crianças a partir de 12 anos já eram<br> consideradas como adultas |\n",
    "| sibsp | Qtd de irmãos/cônjuge à bordo | | |\n",
    "| parch | Qtd de pais/filhos à bordo | | |\n",
    "| ticket | Número do Ticket | | |\n",
    "| fare | Preço da passagem | | |\n",
    "| cabin | Número da cabine | | |\n",
    "| embarked | Porto de embarque | S = Southampton<br> C = Cherbourg<br> Q = Queenstown | Inglaterra<br> França<br> Irlanda<br> |\n",
    "\n",
    "\\* As informações apresentadas são exclusivamente do que faremos uso.\n",
    "<br><br>\n",
    "Como este notebook foi criado e, originalmente, hospedado no Kaggle, a plataforma sugeriu os códigos abaixo para a importação das biliotecas. Assim, vamos deixar como está.\n",
    "\n",
    "---\n",
    "\n",
    "Variable Notes\n",
    "pclass: A proxy for socio-economic status (SES)\n",
    "1st = Upper\n",
    "2nd = Middle\n",
    "3rd = Lower\n",
    "\n",
    "age: Age is fractional if less than 1. If the age is estimated, is it in the form of xx.5\n",
    "\n",
    "sibsp: The dataset defines family relations in this way...\n",
    "Sibling = brother, sister, stepbrother, stepsister\n",
    "Spouse = husband, wife (mistresses and fiancés were ignored)\n",
    "\n",
    "parch: The dataset defines family relations in this way...\n",
    "Parent = mother, father\n",
    "Child = daughter, son, stepdaughter, stepson\n",
    "Some children travelled only with a nanny, therefore parch=0 for them.\n",
    "\n",
    "---\n",
    "The outward route was to be Southampton, England – Cherbourg, France – Queenstown, Ireland – New York, USA"
   ]
  },
  {
   "cell_type": "markdown",
   "id": "cf1fbfa9",
   "metadata": {
    "papermill": {
     "duration": 0.020209,
     "end_time": "2022-01-30T20:20:57.885635",
     "exception": false,
     "start_time": "2022-01-30T20:20:57.865426",
     "status": "completed"
    },
    "tags": []
   },
   "source": [
    "### Importando as bibliotecas e listando os arquivos do Kaglle"
   ]
  },
  {
   "cell_type": "code",
   "execution_count": 1,
   "id": "ddb780b4",
   "metadata": {
    "execution": {
     "iopub.execute_input": "2022-01-30T20:20:57.939365Z",
     "iopub.status.busy": "2022-01-30T20:20:57.936617Z",
     "iopub.status.idle": "2022-01-30T20:20:57.943397Z",
     "shell.execute_reply": "2022-01-30T20:20:57.944032Z",
     "shell.execute_reply.started": "2022-01-30T19:59:04.281556Z"
    },
    "papermill": {
     "duration": 0.038397,
     "end_time": "2022-01-30T20:20:57.944420",
     "exception": false,
     "start_time": "2022-01-30T20:20:57.906023",
     "status": "completed"
    },
    "tags": []
   },
   "outputs": [],
   "source": [
    "from jedi import settings\n",
    "settings.case_insensitive_completion = True"
   ]
  },
  {
   "cell_type": "code",
   "execution_count": 2,
   "id": "eeafacea",
   "metadata": {
    "_cell_guid": "b1076dfc-b9ad-4769-8c92-a6c4dae69d19",
    "_uuid": "8f2839f25d086af736a60e9eeb907d3b93b6e0e5",
    "execution": {
     "iopub.execute_input": "2022-01-30T20:20:57.992488Z",
     "iopub.status.busy": "2022-01-30T20:20:57.991708Z",
     "iopub.status.idle": "2022-01-30T20:20:57.999348Z",
     "shell.execute_reply": "2022-01-30T20:20:57.999938Z",
     "shell.execute_reply.started": "2022-01-30T19:59:04.286388Z"
    },
    "papermill": {
     "duration": 0.035242,
     "end_time": "2022-01-30T20:20:58.000168",
     "exception": false,
     "start_time": "2022-01-30T20:20:57.964926",
     "status": "completed"
    },
    "tags": []
   },
   "outputs": [
    {
     "name": "stdout",
     "output_type": "stream",
     "text": [
      "/kaggle/input/titanic/train.csv\n",
      "/kaggle/input/titanic/test.csv\n",
      "/kaggle/input/titanic/gender_submission.csv\n"
     ]
    }
   ],
   "source": [
    "# This Python 3 environment comes with many helpful analytics libraries installed\n",
    "# It is defined by the kaggle/python Docker image: https://github.com/kaggle/docker-python\n",
    "# For example, here's several helpful packages to load\n",
    "\n",
    "import numpy as np # linear algebra\n",
    "import pandas as pd # data processing, CSV file I/O (e.g. pd.read_csv)\n",
    "\n",
    "# Input data files are available in the read-only \"../input/\" directory\n",
    "# For example, running this (by clicking run or pressing Shift+Enter) will list all files under the input directory\n",
    "\n",
    "import os\n",
    "for dirname, _, filenames in os.walk('/kaggle/input'):\n",
    "    for filename in filenames:\n",
    "        print(os.path.join(dirname, filename))\n",
    "\n",
    "# You can write up to 20GB to the current directory (/kaggle/working/) that gets preserved as output when you create a version using \"Save & Run All\" \n",
    "# You can also write temporary files to /kaggle/temp/, but they won't be saved outside of the current session"
   ]
  },
  {
   "cell_type": "markdown",
   "id": "5cf4572f",
   "metadata": {
    "papermill": {
     "duration": 0.020326,
     "end_time": "2022-01-30T20:20:58.041787",
     "exception": false,
     "start_time": "2022-01-30T20:20:58.021461",
     "status": "completed"
    },
    "tags": []
   },
   "source": [
    "Por ser um dataset para aprendizado de máquina (AM), temos dois arquivos que nos interessam: train.csv e test.csv.\n",
    "Eles possuem a mesma estrutura mas foram separados porque em um algoritmo de AM usamos um conjunto de dados (train.csv) para treinar este modelo. Uma vez treinado, usamos os dados chamados de teste (test.csv) para conferir se o modelo previu corretamente a informação desejada.  \n",
    "Vale ressaltar que AM não é o nosso foco aqui. Assim, só saiba que para termos as informações completa de todos os passeiros temos que juntar os dois conjuntos de dados."
   ]
  },
  {
   "cell_type": "markdown",
   "id": "cf224bde",
   "metadata": {
    "papermill": {
     "duration": 0.020227,
     "end_time": "2022-01-30T20:20:58.082843",
     "exception": false,
     "start_time": "2022-01-30T20:20:58.062616",
     "status": "completed"
    },
    "tags": []
   },
   "source": [
    "### Importando os arquivos e exibindo as suas primeiras linhas"
   ]
  },
  {
   "cell_type": "code",
   "execution_count": 3,
   "id": "8c27cbc0",
   "metadata": {
    "execution": {
     "iopub.execute_input": "2022-01-30T20:20:58.127337Z",
     "iopub.status.busy": "2022-01-30T20:20:58.126677Z",
     "iopub.status.idle": "2022-01-30T20:20:58.168488Z",
     "shell.execute_reply": "2022-01-30T20:20:58.169001Z",
     "shell.execute_reply.started": "2022-01-30T19:59:04.300670Z"
    },
    "papermill": {
     "duration": 0.065714,
     "end_time": "2022-01-30T20:20:58.169194",
     "exception": false,
     "start_time": "2022-01-30T20:20:58.103480",
     "status": "completed"
    },
    "tags": []
   },
   "outputs": [
    {
     "data": {
      "text/html": [
       "<div>\n",
       "<style scoped>\n",
       "    .dataframe tbody tr th:only-of-type {\n",
       "        vertical-align: middle;\n",
       "    }\n",
       "\n",
       "    .dataframe tbody tr th {\n",
       "        vertical-align: top;\n",
       "    }\n",
       "\n",
       "    .dataframe thead th {\n",
       "        text-align: right;\n",
       "    }\n",
       "</style>\n",
       "<table border=\"1\" class=\"dataframe\">\n",
       "  <thead>\n",
       "    <tr style=\"text-align: right;\">\n",
       "      <th></th>\n",
       "      <th>PassengerId</th>\n",
       "      <th>Survived</th>\n",
       "      <th>Pclass</th>\n",
       "      <th>Name</th>\n",
       "      <th>Sex</th>\n",
       "      <th>Age</th>\n",
       "      <th>SibSp</th>\n",
       "      <th>Parch</th>\n",
       "      <th>Ticket</th>\n",
       "      <th>Fare</th>\n",
       "      <th>Cabin</th>\n",
       "      <th>Embarked</th>\n",
       "    </tr>\n",
       "  </thead>\n",
       "  <tbody>\n",
       "    <tr>\n",
       "      <th>0</th>\n",
       "      <td>1</td>\n",
       "      <td>0</td>\n",
       "      <td>3</td>\n",
       "      <td>Braund, Mr. Owen Harris</td>\n",
       "      <td>male</td>\n",
       "      <td>22.0</td>\n",
       "      <td>1</td>\n",
       "      <td>0</td>\n",
       "      <td>A/5 21171</td>\n",
       "      <td>7.2500</td>\n",
       "      <td>NaN</td>\n",
       "      <td>S</td>\n",
       "    </tr>\n",
       "    <tr>\n",
       "      <th>1</th>\n",
       "      <td>2</td>\n",
       "      <td>1</td>\n",
       "      <td>1</td>\n",
       "      <td>Cumings, Mrs. John Bradley (Florence Briggs Th...</td>\n",
       "      <td>female</td>\n",
       "      <td>38.0</td>\n",
       "      <td>1</td>\n",
       "      <td>0</td>\n",
       "      <td>PC 17599</td>\n",
       "      <td>71.2833</td>\n",
       "      <td>C85</td>\n",
       "      <td>C</td>\n",
       "    </tr>\n",
       "    <tr>\n",
       "      <th>2</th>\n",
       "      <td>3</td>\n",
       "      <td>1</td>\n",
       "      <td>3</td>\n",
       "      <td>Heikkinen, Miss. Laina</td>\n",
       "      <td>female</td>\n",
       "      <td>26.0</td>\n",
       "      <td>0</td>\n",
       "      <td>0</td>\n",
       "      <td>STON/O2. 3101282</td>\n",
       "      <td>7.9250</td>\n",
       "      <td>NaN</td>\n",
       "      <td>S</td>\n",
       "    </tr>\n",
       "    <tr>\n",
       "      <th>3</th>\n",
       "      <td>4</td>\n",
       "      <td>1</td>\n",
       "      <td>1</td>\n",
       "      <td>Futrelle, Mrs. Jacques Heath (Lily May Peel)</td>\n",
       "      <td>female</td>\n",
       "      <td>35.0</td>\n",
       "      <td>1</td>\n",
       "      <td>0</td>\n",
       "      <td>113803</td>\n",
       "      <td>53.1000</td>\n",
       "      <td>C123</td>\n",
       "      <td>S</td>\n",
       "    </tr>\n",
       "    <tr>\n",
       "      <th>4</th>\n",
       "      <td>5</td>\n",
       "      <td>0</td>\n",
       "      <td>3</td>\n",
       "      <td>Allen, Mr. William Henry</td>\n",
       "      <td>male</td>\n",
       "      <td>35.0</td>\n",
       "      <td>0</td>\n",
       "      <td>0</td>\n",
       "      <td>373450</td>\n",
       "      <td>8.0500</td>\n",
       "      <td>NaN</td>\n",
       "      <td>S</td>\n",
       "    </tr>\n",
       "  </tbody>\n",
       "</table>\n",
       "</div>"
      ],
      "text/plain": [
       "   PassengerId  Survived  Pclass  \\\n",
       "0            1         0       3   \n",
       "1            2         1       1   \n",
       "2            3         1       3   \n",
       "3            4         1       1   \n",
       "4            5         0       3   \n",
       "\n",
       "                                                Name     Sex   Age  SibSp  \\\n",
       "0                            Braund, Mr. Owen Harris    male  22.0      1   \n",
       "1  Cumings, Mrs. John Bradley (Florence Briggs Th...  female  38.0      1   \n",
       "2                             Heikkinen, Miss. Laina  female  26.0      0   \n",
       "3       Futrelle, Mrs. Jacques Heath (Lily May Peel)  female  35.0      1   \n",
       "4                           Allen, Mr. William Henry    male  35.0      0   \n",
       "\n",
       "   Parch            Ticket     Fare Cabin Embarked  \n",
       "0      0         A/5 21171   7.2500   NaN        S  \n",
       "1      0          PC 17599  71.2833   C85        C  \n",
       "2      0  STON/O2. 3101282   7.9250   NaN        S  \n",
       "3      0            113803  53.1000  C123        S  \n",
       "4      0            373450   8.0500   NaN        S  "
      ]
     },
     "execution_count": 3,
     "metadata": {},
     "output_type": "execute_result"
    }
   ],
   "source": [
    "# Lendo o arquivo de treino\n",
    "train_data = pd.read_csv(\"/kaggle/input/titanic/train.csv\")\n",
    "train_data.head()"
   ]
  },
  {
   "cell_type": "code",
   "execution_count": 4,
   "id": "939e37b7",
   "metadata": {
    "execution": {
     "iopub.execute_input": "2022-01-30T20:20:58.217185Z",
     "iopub.status.busy": "2022-01-30T20:20:58.216208Z",
     "iopub.status.idle": "2022-01-30T20:20:58.239012Z",
     "shell.execute_reply": "2022-01-30T20:20:58.239614Z",
     "shell.execute_reply.started": "2022-01-30T19:59:04.336241Z"
    },
    "papermill": {
     "duration": 0.049516,
     "end_time": "2022-01-30T20:20:58.239813",
     "exception": false,
     "start_time": "2022-01-30T20:20:58.190297",
     "status": "completed"
    },
    "tags": []
   },
   "outputs": [
    {
     "data": {
      "text/html": [
       "<div>\n",
       "<style scoped>\n",
       "    .dataframe tbody tr th:only-of-type {\n",
       "        vertical-align: middle;\n",
       "    }\n",
       "\n",
       "    .dataframe tbody tr th {\n",
       "        vertical-align: top;\n",
       "    }\n",
       "\n",
       "    .dataframe thead th {\n",
       "        text-align: right;\n",
       "    }\n",
       "</style>\n",
       "<table border=\"1\" class=\"dataframe\">\n",
       "  <thead>\n",
       "    <tr style=\"text-align: right;\">\n",
       "      <th></th>\n",
       "      <th>PassengerId</th>\n",
       "      <th>Pclass</th>\n",
       "      <th>Name</th>\n",
       "      <th>Sex</th>\n",
       "      <th>Age</th>\n",
       "      <th>SibSp</th>\n",
       "      <th>Parch</th>\n",
       "      <th>Ticket</th>\n",
       "      <th>Fare</th>\n",
       "      <th>Cabin</th>\n",
       "      <th>Embarked</th>\n",
       "    </tr>\n",
       "  </thead>\n",
       "  <tbody>\n",
       "    <tr>\n",
       "      <th>0</th>\n",
       "      <td>892</td>\n",
       "      <td>3</td>\n",
       "      <td>Kelly, Mr. James</td>\n",
       "      <td>male</td>\n",
       "      <td>34.5</td>\n",
       "      <td>0</td>\n",
       "      <td>0</td>\n",
       "      <td>330911</td>\n",
       "      <td>7.8292</td>\n",
       "      <td>NaN</td>\n",
       "      <td>Q</td>\n",
       "    </tr>\n",
       "    <tr>\n",
       "      <th>1</th>\n",
       "      <td>893</td>\n",
       "      <td>3</td>\n",
       "      <td>Wilkes, Mrs. James (Ellen Needs)</td>\n",
       "      <td>female</td>\n",
       "      <td>47.0</td>\n",
       "      <td>1</td>\n",
       "      <td>0</td>\n",
       "      <td>363272</td>\n",
       "      <td>7.0000</td>\n",
       "      <td>NaN</td>\n",
       "      <td>S</td>\n",
       "    </tr>\n",
       "    <tr>\n",
       "      <th>2</th>\n",
       "      <td>894</td>\n",
       "      <td>2</td>\n",
       "      <td>Myles, Mr. Thomas Francis</td>\n",
       "      <td>male</td>\n",
       "      <td>62.0</td>\n",
       "      <td>0</td>\n",
       "      <td>0</td>\n",
       "      <td>240276</td>\n",
       "      <td>9.6875</td>\n",
       "      <td>NaN</td>\n",
       "      <td>Q</td>\n",
       "    </tr>\n",
       "    <tr>\n",
       "      <th>3</th>\n",
       "      <td>895</td>\n",
       "      <td>3</td>\n",
       "      <td>Wirz, Mr. Albert</td>\n",
       "      <td>male</td>\n",
       "      <td>27.0</td>\n",
       "      <td>0</td>\n",
       "      <td>0</td>\n",
       "      <td>315154</td>\n",
       "      <td>8.6625</td>\n",
       "      <td>NaN</td>\n",
       "      <td>S</td>\n",
       "    </tr>\n",
       "    <tr>\n",
       "      <th>4</th>\n",
       "      <td>896</td>\n",
       "      <td>3</td>\n",
       "      <td>Hirvonen, Mrs. Alexander (Helga E Lindqvist)</td>\n",
       "      <td>female</td>\n",
       "      <td>22.0</td>\n",
       "      <td>1</td>\n",
       "      <td>1</td>\n",
       "      <td>3101298</td>\n",
       "      <td>12.2875</td>\n",
       "      <td>NaN</td>\n",
       "      <td>S</td>\n",
       "    </tr>\n",
       "  </tbody>\n",
       "</table>\n",
       "</div>"
      ],
      "text/plain": [
       "   PassengerId  Pclass                                          Name     Sex  \\\n",
       "0          892       3                              Kelly, Mr. James    male   \n",
       "1          893       3              Wilkes, Mrs. James (Ellen Needs)  female   \n",
       "2          894       2                     Myles, Mr. Thomas Francis    male   \n",
       "3          895       3                              Wirz, Mr. Albert    male   \n",
       "4          896       3  Hirvonen, Mrs. Alexander (Helga E Lindqvist)  female   \n",
       "\n",
       "    Age  SibSp  Parch   Ticket     Fare Cabin Embarked  \n",
       "0  34.5      0      0   330911   7.8292   NaN        Q  \n",
       "1  47.0      1      0   363272   7.0000   NaN        S  \n",
       "2  62.0      0      0   240276   9.6875   NaN        Q  \n",
       "3  27.0      0      0   315154   8.6625   NaN        S  \n",
       "4  22.0      1      1  3101298  12.2875   NaN        S  "
      ]
     },
     "execution_count": 4,
     "metadata": {},
     "output_type": "execute_result"
    }
   ],
   "source": [
    "# Lendo o arquivo de teste\n",
    "test_data = pd.read_csv(\"/kaggle/input/titanic/test.csv\")\n",
    "test_data.head()"
   ]
  },
  {
   "cell_type": "code",
   "execution_count": 5,
   "id": "0b22e51c",
   "metadata": {
    "execution": {
     "iopub.execute_input": "2022-01-30T20:20:58.287053Z",
     "iopub.status.busy": "2022-01-30T20:20:58.286346Z",
     "iopub.status.idle": "2022-01-30T20:20:58.302860Z",
     "shell.execute_reply": "2022-01-30T20:20:58.302302Z",
     "shell.execute_reply.started": "2022-01-30T19:59:04.361919Z"
    },
    "papermill": {
     "duration": 0.041395,
     "end_time": "2022-01-30T20:20:58.303030",
     "exception": false,
     "start_time": "2022-01-30T20:20:58.261635",
     "status": "completed"
    },
    "tags": []
   },
   "outputs": [
    {
     "data": {
      "text/plain": [
       "(1309, 418, 891)"
      ]
     },
     "execution_count": 5,
     "metadata": {},
     "output_type": "execute_result"
    }
   ],
   "source": [
    "# Concatenando os dois datasets (dataframes)\n",
    "titanic_passg = pd.concat([train_data, test_data])\n",
    "\n",
    "# exibindo os tamanhos dos datasets para conferência\n",
    "len(titanic_passg.index), len(test_data.index), len(train_data.index)"
   ]
  },
  {
   "cell_type": "markdown",
   "id": "ee753e51",
   "metadata": {
    "papermill": {
     "duration": 0.021459,
     "end_time": "2022-01-30T20:20:58.347245",
     "exception": false,
     "start_time": "2022-01-30T20:20:58.325786",
     "status": "completed"
    },
    "tags": []
   },
   "source": [
    "Obs: *Decidi dar o nome do DataFrame de 'titanic_passg' porque naquele transatlântico não estavam apenas as pessoas do dataset. Este contempla **apenas** os passageiros.  \n",
    "Muitas outras estavam lá e, infelizmente, muitas também morreram. Na verdade, havia 891 tripulantes e apenas 212 sobreviveram ao desastre.*"
   ]
  },
  {
   "cell_type": "code",
   "execution_count": 6,
   "id": "d734075d",
   "metadata": {
    "execution": {
     "iopub.execute_input": "2022-01-30T20:20:58.396935Z",
     "iopub.status.busy": "2022-01-30T20:20:58.396281Z",
     "iopub.status.idle": "2022-01-30T20:20:58.401190Z",
     "shell.execute_reply": "2022-01-30T20:20:58.401855Z",
     "shell.execute_reply.started": "2022-01-30T19:59:04.377858Z"
    },
    "papermill": {
     "duration": 0.033062,
     "end_time": "2022-01-30T20:20:58.402083",
     "exception": false,
     "start_time": "2022-01-30T20:20:58.369021",
     "status": "completed"
    },
    "tags": []
   },
   "outputs": [],
   "source": [
    "# e, antes de iniciar nossa AED, vamos excluir as colunas que não precisamos para nosso trabalho: Survived\n",
    "titanic_passg.drop(columns=['PassengerId', 'Survived'], inplace=True); # o ponto e vírgula no final da linha serve para dizer ao Jupyter que não exiba o output do comando"
   ]
  },
  {
   "cell_type": "markdown",
   "id": "cdfbb959",
   "metadata": {
    "papermill": {
     "duration": 0.021502,
     "end_time": "2022-01-30T20:20:58.445328",
     "exception": false,
     "start_time": "2022-01-30T20:20:58.423826",
     "status": "completed"
    },
    "tags": []
   },
   "source": [
    "___\n",
    "### Vamos agora à nossa Análise Exploratória de Dados\n",
    "\n",
    "#### e um pouco de estória\n",
    "\n",
    "Mas antes vamos fazer dois ajustes no nosso dataset:\n",
    "1. Converter os valores monetários para os dias de hoje e **em Reais**\n",
    "2. Arredondar as idades\n",
    "\n",
    "**Analisando e Convertendo os valores**  \n",
    "Como vemos abaixo, os preços máximos pagos por classe foram de 512.3292, 73.5000 e 69.5500 para 1ª, 2ª e 3ª, respectivamente.  \n",
    "Mas, afinal, estes valores estão em qual moeda?\n",
    "\n",
    "É natural, numa primeira visão dos valores, já imaginarmos o dólar americano. Penso eu que seja pelo fato deste dataset estar no Kaggle. ;) Mas a moeda não está em dólar americano.  \n",
    "Ela está em Libras!"
   ]
  },
  {
   "cell_type": "code",
   "execution_count": 7,
   "id": "a5781bd8",
   "metadata": {
    "execution": {
     "iopub.execute_input": "2022-01-30T20:20:58.498150Z",
     "iopub.status.busy": "2022-01-30T20:20:58.492232Z",
     "iopub.status.idle": "2022-01-30T20:20:58.512333Z",
     "shell.execute_reply": "2022-01-30T20:20:58.512847Z",
     "shell.execute_reply.started": "2022-01-30T19:59:04.385836Z"
    },
    "papermill": {
     "duration": 0.045821,
     "end_time": "2022-01-30T20:20:58.513060",
     "exception": false,
     "start_time": "2022-01-30T20:20:58.467239",
     "status": "completed"
    },
    "tags": []
   },
   "outputs": [
    {
     "data": {
      "text/html": [
       "<div>\n",
       "<style scoped>\n",
       "    .dataframe tbody tr th:only-of-type {\n",
       "        vertical-align: middle;\n",
       "    }\n",
       "\n",
       "    .dataframe tbody tr th {\n",
       "        vertical-align: top;\n",
       "    }\n",
       "\n",
       "    .dataframe thead tr th {\n",
       "        text-align: left;\n",
       "    }\n",
       "\n",
       "    .dataframe thead tr:last-of-type th {\n",
       "        text-align: right;\n",
       "    }\n",
       "</style>\n",
       "<table border=\"1\" class=\"dataframe\">\n",
       "  <thead>\n",
       "    <tr>\n",
       "      <th></th>\n",
       "      <th colspan=\"3\" halign=\"left\">Fare</th>\n",
       "    </tr>\n",
       "    <tr>\n",
       "      <th></th>\n",
       "      <th>mean</th>\n",
       "      <th>min</th>\n",
       "      <th>max</th>\n",
       "    </tr>\n",
       "    <tr>\n",
       "      <th>Pclass</th>\n",
       "      <th></th>\n",
       "      <th></th>\n",
       "      <th></th>\n",
       "    </tr>\n",
       "  </thead>\n",
       "  <tbody>\n",
       "    <tr>\n",
       "      <th>1</th>\n",
       "      <td>87.508992</td>\n",
       "      <td>0.0</td>\n",
       "      <td>512.3292</td>\n",
       "    </tr>\n",
       "    <tr>\n",
       "      <th>2</th>\n",
       "      <td>21.179196</td>\n",
       "      <td>0.0</td>\n",
       "      <td>73.5000</td>\n",
       "    </tr>\n",
       "    <tr>\n",
       "      <th>3</th>\n",
       "      <td>13.302889</td>\n",
       "      <td>0.0</td>\n",
       "      <td>69.5500</td>\n",
       "    </tr>\n",
       "  </tbody>\n",
       "</table>\n",
       "</div>"
      ],
      "text/plain": [
       "             Fare               \n",
       "             mean  min       max\n",
       "Pclass                          \n",
       "1       87.508992  0.0  512.3292\n",
       "2       21.179196  0.0   73.5000\n",
       "3       13.302889  0.0   69.5500"
      ]
     },
     "execution_count": 7,
     "metadata": {},
     "output_type": "execute_result"
    }
   ],
   "source": [
    "# Exibindo a média, mínimo e máximo valor pago por classe\n",
    "titanic_passg.groupby('Pclass').aggregate({'Fare':['mean','min','max']})"
   ]
  },
  {
   "cell_type": "markdown",
   "id": "f9d25daa",
   "metadata": {
    "papermill": {
     "duration": 0.021597,
     "end_time": "2022-01-30T20:20:58.557226",
     "exception": false,
     "start_time": "2022-01-30T20:20:58.535629",
     "status": "completed"
    },
    "tags": []
   },
   "source": [
    "Agora que sabemos a moeda, já podemos calcular. Né?  \n",
    "Só que não!  \n",
    "Você pensa que inflação é só coisa de brasileiros?  \n",
    "Ah, então, tá! Só \"jogar\" a inflação.  \n",
    "Só que não!  \n",
    "Você pensa que mudanças monetárias é só coisa de brasileiros? Só no período chamado *Nova República* para cá (2022) mudamos de moedas 5 vezes!  \n",
    "A Inglaterra também passou por mudanças monetárias no milênio passado. Bem... após uma pesquisa que me consumiu umas 4 horas, cheguei à conclusão que converter os valores dos tickets para os dias de hoje não teria uma exatidão como eu esperava. Há muitos debates em fóruns e em sites que falam do assunto e eles mesmos concordam que é difícil esta tarefa. Assim, como as diferenças de conversões são até pequenas (centavos, na verdade), optaremos por:\n",
    "* usar apenas a inflação acumulada\n",
    "* converter Libras para Real"
   ]
  },
  {
   "cell_type": "code",
   "execution_count": 8,
   "id": "8ab9643a",
   "metadata": {
    "execution": {
     "iopub.execute_input": "2022-01-30T20:20:58.608309Z",
     "iopub.status.busy": "2022-01-30T20:20:58.607277Z",
     "iopub.status.idle": "2022-01-30T20:20:58.642678Z",
     "shell.execute_reply": "2022-01-30T20:20:58.642003Z",
     "shell.execute_reply.started": "2022-01-30T19:59:04.405778Z"
    },
    "papermill": {
     "duration": 0.061806,
     "end_time": "2022-01-30T20:20:58.642838",
     "exception": false,
     "start_time": "2022-01-30T20:20:58.581032",
     "status": "completed"
    },
    "tags": []
   },
   "outputs": [],
   "source": [
    "# Inflação acumulada: 11,800.72% (De jan/1912 à dez/2021)\n",
    "inflacao_acumulada = 11800.72\n",
    "# Taxa de conversão Libras para Reais (30/01/2022): \n",
    "taxa_conversao_libra_real = 7.20\n",
    "\n",
    "# Criano uma nova coluna com o valor em R$\n",
    "titanic_passg['Fare'] = titanic_passg.apply(lambda x: round(\n",
    "                                                  ( (x['Fare'] * inflacao_acumulada / 100.) + x['Fare']) * \\\n",
    "                                                   taxa_conversao_libra_real, 2), axis = 1)"
   ]
  },
  {
   "cell_type": "markdown",
   "id": "c237591e",
   "metadata": {
    "papermill": {
     "duration": 0.021806,
     "end_time": "2022-01-30T20:20:58.686816",
     "exception": false,
     "start_time": "2022-01-30T20:20:58.665010",
     "status": "completed"
    },
    "tags": []
   },
   "source": [
    "Convertidos os valores, vamos olhar qual os valores máximos pagos por claro.  \n",
    "Lembrando: Os valores já estão em Reais."
   ]
  },
  {
   "cell_type": "code",
   "execution_count": 9,
   "id": "54d4b8f3",
   "metadata": {
    "execution": {
     "iopub.execute_input": "2022-01-30T20:20:58.735644Z",
     "iopub.status.busy": "2022-01-30T20:20:58.734567Z",
     "iopub.status.idle": "2022-01-30T20:20:58.750486Z",
     "shell.execute_reply": "2022-01-30T20:20:58.751069Z",
     "shell.execute_reply.started": "2022-01-30T19:59:04.440040Z"
    },
    "papermill": {
     "duration": 0.042276,
     "end_time": "2022-01-30T20:20:58.751277",
     "exception": false,
     "start_time": "2022-01-30T20:20:58.709001",
     "status": "completed"
    },
    "tags": []
   },
   "outputs": [
    {
     "data": {
      "text/html": [
       "<div>\n",
       "<style scoped>\n",
       "    .dataframe tbody tr th:only-of-type {\n",
       "        vertical-align: middle;\n",
       "    }\n",
       "\n",
       "    .dataframe tbody tr th {\n",
       "        vertical-align: top;\n",
       "    }\n",
       "\n",
       "    .dataframe thead tr th {\n",
       "        text-align: left;\n",
       "    }\n",
       "\n",
       "    .dataframe thead tr:last-of-type th {\n",
       "        text-align: right;\n",
       "    }\n",
       "</style>\n",
       "<table border=\"1\" class=\"dataframe\">\n",
       "  <thead>\n",
       "    <tr>\n",
       "      <th></th>\n",
       "      <th colspan=\"3\" halign=\"left\">Fare</th>\n",
       "    </tr>\n",
       "    <tr>\n",
       "      <th></th>\n",
       "      <th>mean</th>\n",
       "      <th>min</th>\n",
       "      <th>max</th>\n",
       "    </tr>\n",
       "    <tr>\n",
       "      <th>Pclass</th>\n",
       "      <th></th>\n",
       "      <th></th>\n",
       "      <th></th>\n",
       "    </tr>\n",
       "  </thead>\n",
       "  <tbody>\n",
       "    <tr>\n",
       "      <th>1</th>\n",
       "      <td>74982.240960</td>\n",
       "      <td>0.0</td>\n",
       "      <td>438990.22</td>\n",
       "    </tr>\n",
       "    <tr>\n",
       "      <th>2</th>\n",
       "      <td>18147.432383</td>\n",
       "      <td>0.0</td>\n",
       "      <td>62978.61</td>\n",
       "    </tr>\n",
       "    <tr>\n",
       "      <th>3</th>\n",
       "      <td>11398.604477</td>\n",
       "      <td>0.0</td>\n",
       "      <td>59594.05</td>\n",
       "    </tr>\n",
       "  </tbody>\n",
       "</table>\n",
       "</div>"
      ],
      "text/plain": [
       "                Fare                \n",
       "                mean  min        max\n",
       "Pclass                              \n",
       "1       74982.240960  0.0  438990.22\n",
       "2       18147.432383  0.0   62978.61\n",
       "3       11398.604477  0.0   59594.05"
      ]
     },
     "execution_count": 9,
     "metadata": {},
     "output_type": "execute_result"
    }
   ],
   "source": [
    "# Exibindo a média, mínimo e máximo valor pago por classe\n",
    "titanic_passg.groupby('Pclass').aggregate({'Fare':['mean','min','max']})"
   ]
  },
  {
   "cell_type": "markdown",
   "id": "a8cadd24",
   "metadata": {
    "papermill": {
     "duration": 0.022614,
     "end_time": "2022-01-30T20:20:58.797641",
     "exception": false,
     "start_time": "2022-01-30T20:20:58.775027",
     "status": "completed"
    },
    "tags": []
   },
   "source": [
    "R\\\\$ 438.990,22 por uma viagem!?  \n",
    "Para efeito de comparação, fazendo hoje (30/01/2022) uma cotacao de viagem na MSC Cruzeiros uma viagem de 44 noites, conhecendo mais de 12 lugares e numacabine com vista para o mar, sai por R$ 41.618,20.  \n",
    "\n",
    "![mapa](https://www.msccruzeiros.com.br/images/msc/iti/itin/UOOM.jpg)"
   ]
  },
  {
   "cell_type": "markdown",
   "id": "7d6d5d3d",
   "metadata": {
    "papermill": {
     "duration": 0.022458,
     "end_time": "2022-01-30T20:20:58.843564",
     "exception": false,
     "start_time": "2022-01-30T20:20:58.821106",
     "status": "completed"
    },
    "tags": []
   },
   "source": [
    "**Arredondar as idades**  \n",
    "Como queremos trabalhar com as idades em inteiros, vamos converter 22,5 (22 anos e meio) para 22. Só consideraremos a parte inteira."
   ]
  },
  {
   "cell_type": "code",
   "execution_count": 10,
   "id": "ba2dae3a",
   "metadata": {
    "execution": {
     "iopub.execute_input": "2022-01-30T20:20:58.893842Z",
     "iopub.status.busy": "2022-01-30T20:20:58.892762Z",
     "iopub.status.idle": "2022-01-30T20:20:58.898495Z",
     "shell.execute_reply": "2022-01-30T20:20:58.899092Z",
     "shell.execute_reply.started": "2022-01-30T19:59:04.456174Z"
    },
    "papermill": {
     "duration": 0.033032,
     "end_time": "2022-01-30T20:20:58.899291",
     "exception": false,
     "start_time": "2022-01-30T20:20:58.866259",
     "status": "completed"
    },
    "tags": []
   },
   "outputs": [],
   "source": [
    "titanic_passg['Age'] = titanic_passg['Age'].apply(np.trunc)"
   ]
  },
  {
   "cell_type": "markdown",
   "id": "264cdd96",
   "metadata": {
    "papermill": {
     "duration": 0.023269,
     "end_time": "2022-01-30T20:20:58.945313",
     "exception": false,
     "start_time": "2022-01-30T20:20:58.922044",
     "status": "completed"
    },
    "tags": []
   },
   "source": [
    "---\n",
    "\n",
    "## Agora sim vamos agora começar nossas sessões de raios-x  \n",
    "\n",
    "Vamos primeiro ver o trivial:"
   ]
  },
  {
   "cell_type": "code",
   "execution_count": 11,
   "id": "008f19b3",
   "metadata": {
    "execution": {
     "iopub.execute_input": "2022-01-30T20:20:58.998023Z",
     "iopub.status.busy": "2022-01-30T20:20:58.997093Z",
     "iopub.status.idle": "2022-01-30T20:20:59.000475Z",
     "shell.execute_reply": "2022-01-30T20:20:59.000946Z",
     "shell.execute_reply.started": "2022-01-30T19:59:04.462171Z"
    },
    "papermill": {
     "duration": 0.033103,
     "end_time": "2022-01-30T20:20:59.001156",
     "exception": false,
     "start_time": "2022-01-30T20:20:58.968053",
     "status": "completed"
    },
    "tags": []
   },
   "outputs": [
    {
     "data": {
      "text/plain": [
       "(1309, 10)"
      ]
     },
     "execution_count": 11,
     "metadata": {},
     "output_type": "execute_result"
    }
   ],
   "source": [
    "# mostre a qtd de linhas e colunas passg_titanic_passg_passg\n",
    "titanic_passg.shape"
   ]
  },
  {
   "cell_type": "code",
   "execution_count": 12,
   "id": "20da5ca7",
   "metadata": {
    "execution": {
     "iopub.execute_input": "2022-01-30T20:20:59.051928Z",
     "iopub.status.busy": "2022-01-30T20:20:59.050932Z",
     "iopub.status.idle": "2022-01-30T20:20:59.069444Z",
     "shell.execute_reply": "2022-01-30T20:20:59.068767Z",
     "shell.execute_reply.started": "2022-01-30T19:59:04.472672Z"
    },
    "papermill": {
     "duration": 0.045157,
     "end_time": "2022-01-30T20:20:59.069603",
     "exception": false,
     "start_time": "2022-01-30T20:20:59.024446",
     "status": "completed"
    },
    "tags": []
   },
   "outputs": [
    {
     "name": "stdout",
     "output_type": "stream",
     "text": [
      "<class 'pandas.core.frame.DataFrame'>\n",
      "Int64Index: 1309 entries, 0 to 417\n",
      "Data columns (total 10 columns):\n",
      " #   Column    Non-Null Count  Dtype  \n",
      "---  ------    --------------  -----  \n",
      " 0   Pclass    1309 non-null   int64  \n",
      " 1   Name      1309 non-null   object \n",
      " 2   Sex       1309 non-null   object \n",
      " 3   Age       1046 non-null   float64\n",
      " 4   SibSp     1309 non-null   int64  \n",
      " 5   Parch     1309 non-null   int64  \n",
      " 6   Ticket    1309 non-null   object \n",
      " 7   Fare      1308 non-null   float64\n",
      " 8   Cabin     295 non-null    object \n",
      " 9   Embarked  1307 non-null   object \n",
      "dtypes: float64(2), int64(3), object(5)\n",
      "memory usage: 112.5+ KB\n"
     ]
    }
   ],
   "source": [
    "# mostre as informações do Dataframe\n",
    "titanic_passg.info()"
   ]
  },
  {
   "cell_type": "markdown",
   "id": "c193bdea",
   "metadata": {
    "papermill": {
     "duration": 0.023337,
     "end_time": "2022-01-30T20:20:59.116426",
     "exception": false,
     "start_time": "2022-01-30T20:20:59.093089",
     "status": "completed"
    },
    "tags": []
   },
   "source": [
    "Podemos ver no dataset que ele tem:\n",
    "- 10 colunas (Data columns)\n",
    "- 1309 linhas (entries)\n",
    "- Colunas com informações faltantes:\n",
    "  - Age (só tem em 1046 dos 1.309 registros. Portanto, 263 faltantes)\n",
    "  - Fare (apenas 1 faltante)\n",
    "  - Cabin (1.014 faltantes)\n",
    "  - Embarked (2 faltantes)\n",
    "\n",
    "Podemos ver estas mesmas informações da seguinte forma:"
   ]
  },
  {
   "cell_type": "code",
   "execution_count": 13,
   "id": "d796d806",
   "metadata": {
    "execution": {
     "iopub.execute_input": "2022-01-30T20:20:59.167465Z",
     "iopub.status.busy": "2022-01-30T20:20:59.166398Z",
     "iopub.status.idle": "2022-01-30T20:20:59.175864Z",
     "shell.execute_reply": "2022-01-30T20:20:59.176515Z",
     "shell.execute_reply.started": "2022-01-30T19:59:04.489814Z"
    },
    "papermill": {
     "duration": 0.036949,
     "end_time": "2022-01-30T20:20:59.176709",
     "exception": false,
     "start_time": "2022-01-30T20:20:59.139760",
     "status": "completed"
    },
    "tags": []
   },
   "outputs": [
    {
     "data": {
      "text/plain": [
       "Pclass         0\n",
       "Name           0\n",
       "Sex            0\n",
       "Age          263\n",
       "SibSp          0\n",
       "Parch          0\n",
       "Ticket         0\n",
       "Fare           1\n",
       "Cabin       1014\n",
       "Embarked       2\n",
       "dtype: int64"
      ]
     },
     "execution_count": 13,
     "metadata": {},
     "output_type": "execute_result"
    }
   ],
   "source": [
    "# mostre a quantidade de nulos por coluna\n",
    "titanic_passg.isnull().sum()"
   ]
  },
  {
   "cell_type": "markdown",
   "id": "5e4195a6",
   "metadata": {
    "papermill": {
     "duration": 0.02364,
     "end_time": "2022-01-30T20:20:59.224060",
     "exception": false,
     "start_time": "2022-01-30T20:20:59.200420",
     "status": "completed"
    },
    "tags": []
   },
   "source": [
    "## Vamos buscar algumas informações dos passageiros  \n",
    "### Mas, antes, pecisamos saber algo sobre a lista de passageiro...   \n",
    "\n",
    "Poderíamos concluir que no navio havia 1.309 (comando shape, lembra?) passageiros **mas** *só que não*.  \n",
    "Pesquisando sobre ela, podemos ver que (1) algumas pessoas desistiram da viagem (não embarcaram), que (2) algumas usaram nomes falsos, (3) devido à desorganização e (4) esta lista também é um ponto de discussão como foi o da moeda.   \n",
    "\n",
    "### Bem, sabendo disto (ou ignorando isto), vamos continuar.\n",
    "\n",
    "Vamos buscar algumas informações básicas sobre os passageiros. Que tal vermos a quantidade de passageiros por sexo? E, por que não, também por faixa etária?  \n",
    "### Um pouco sobre os passageiros"
   ]
  },
  {
   "cell_type": "code",
   "execution_count": 14,
   "id": "f35b6557",
   "metadata": {
    "execution": {
     "iopub.execute_input": "2022-01-30T20:20:59.276157Z",
     "iopub.status.busy": "2022-01-30T20:20:59.275071Z",
     "iopub.status.idle": "2022-01-30T20:20:59.288559Z",
     "shell.execute_reply": "2022-01-30T20:20:59.289176Z",
     "shell.execute_reply.started": "2022-01-30T20:15:16.124470Z"
    },
    "papermill": {
     "duration": 0.041343,
     "end_time": "2022-01-30T20:20:59.289375",
     "exception": false,
     "start_time": "2022-01-30T20:20:59.248032",
     "status": "completed"
    },
    "tags": []
   },
   "outputs": [
    {
     "data": {
      "text/html": [
       "<div>\n",
       "<style scoped>\n",
       "    .dataframe tbody tr th:only-of-type {\n",
       "        vertical-align: middle;\n",
       "    }\n",
       "\n",
       "    .dataframe tbody tr th {\n",
       "        vertical-align: top;\n",
       "    }\n",
       "\n",
       "    .dataframe thead th {\n",
       "        text-align: right;\n",
       "    }\n",
       "</style>\n",
       "<table border=\"1\" class=\"dataframe\">\n",
       "  <thead>\n",
       "    <tr style=\"text-align: right;\">\n",
       "      <th></th>\n",
       "      <th></th>\n",
       "      <th>Sex</th>\n",
       "    </tr>\n",
       "    <tr>\n",
       "      <th>Pclass</th>\n",
       "      <th>Sex</th>\n",
       "      <th></th>\n",
       "    </tr>\n",
       "  </thead>\n",
       "  <tbody>\n",
       "    <tr>\n",
       "      <th rowspan=\"2\" valign=\"top\">1</th>\n",
       "      <th>female</th>\n",
       "      <td>144</td>\n",
       "    </tr>\n",
       "    <tr>\n",
       "      <th>male</th>\n",
       "      <td>179</td>\n",
       "    </tr>\n",
       "    <tr>\n",
       "      <th rowspan=\"2\" valign=\"top\">2</th>\n",
       "      <th>female</th>\n",
       "      <td>106</td>\n",
       "    </tr>\n",
       "    <tr>\n",
       "      <th>male</th>\n",
       "      <td>171</td>\n",
       "    </tr>\n",
       "    <tr>\n",
       "      <th rowspan=\"2\" valign=\"top\">3</th>\n",
       "      <th>female</th>\n",
       "      <td>216</td>\n",
       "    </tr>\n",
       "    <tr>\n",
       "      <th>male</th>\n",
       "      <td>493</td>\n",
       "    </tr>\n",
       "  </tbody>\n",
       "</table>\n",
       "</div>"
      ],
      "text/plain": [
       "               Sex\n",
       "Pclass Sex        \n",
       "1      female  144\n",
       "       male    179\n",
       "2      female  106\n",
       "       male    171\n",
       "3      female  216\n",
       "       male    493"
      ]
     },
     "execution_count": 14,
     "metadata": {},
     "output_type": "execute_result"
    }
   ],
   "source": [
    "titanic_passg.groupby(['Pclass','Sex']).agg({'Sex':'count'})\n",
    "#df.groupby('A').agg({'B': ['min', 'max'], 'C': 'sum'})\n"
   ]
  },
  {
   "cell_type": "markdown",
   "id": "b4ad1d05",
   "metadata": {
    "papermill": {
     "duration": 0.025009,
     "end_time": "2022-01-30T20:20:59.338552",
     "exception": false,
     "start_time": "2022-01-30T20:20:59.313543",
     "status": "completed"
    },
    "tags": []
   },
   "source": [
    "#### Fontes de Pesquisas:\n",
    "* [Encyclopedia Titanica](https://www.encyclopedia-titanica.org/)\n",
    "* [Statistical Consultants Ltd](https://www.statisticalconsultants.co.nz/blog/titanic-fare-data.html)\n",
    "* [How Britain converted to decimal currency](https://www.bbc.com/news/business-12346083)\n",
    "* [Money: Problems with convertion rate factor](https://www.encyclopedia-titanica.org/discus/messages/5660/56798.html?1045826743)\n",
    "* [Understanding old British money - pounds, shillings and pence](http://projectbritain.com/moneyold.htm)\n",
    "* [Titanic Fare Data](https://www.statisticalconsultants.co.nz/blog/titanic-fare-data.html)\n",
    "* [UK Composite Price Index values since 1750](https://www.officialdata.org/articles/uk-composite-price-index-values-since-1750/)\n",
    "* [£100 in 1912 → 2022 | UK Inflation Calculator](https://www.in2013dollars.com/uk/inflation/1912?amount=100#formulas)"
   ]
  },
  {
   "cell_type": "code",
   "execution_count": 15,
   "id": "f49995a8",
   "metadata": {
    "execution": {
     "iopub.execute_input": "2022-01-30T20:20:59.392530Z",
     "iopub.status.busy": "2022-01-30T20:20:59.391462Z",
     "iopub.status.idle": "2022-01-30T20:20:59.407496Z",
     "shell.execute_reply": "2022-01-30T20:20:59.408063Z",
     "shell.execute_reply.started": "2022-01-30T19:59:04.523782Z"
    },
    "papermill": {
     "duration": 0.044718,
     "end_time": "2022-01-30T20:20:59.408269",
     "exception": false,
     "start_time": "2022-01-30T20:20:59.363551",
     "status": "completed"
    },
    "tags": []
   },
   "outputs": [
    {
     "data": {
      "text/html": [
       "<div>\n",
       "<style scoped>\n",
       "    .dataframe tbody tr th:only-of-type {\n",
       "        vertical-align: middle;\n",
       "    }\n",
       "\n",
       "    .dataframe tbody tr th {\n",
       "        vertical-align: top;\n",
       "    }\n",
       "\n",
       "    .dataframe thead th {\n",
       "        text-align: right;\n",
       "    }\n",
       "</style>\n",
       "<table border=\"1\" class=\"dataframe\">\n",
       "  <thead>\n",
       "    <tr style=\"text-align: right;\">\n",
       "      <th></th>\n",
       "      <th>Pclass</th>\n",
       "      <th>Name</th>\n",
       "      <th>Sex</th>\n",
       "      <th>Age</th>\n",
       "      <th>SibSp</th>\n",
       "      <th>Parch</th>\n",
       "      <th>Ticket</th>\n",
       "      <th>Fare</th>\n",
       "      <th>Cabin</th>\n",
       "      <th>Embarked</th>\n",
       "    </tr>\n",
       "  </thead>\n",
       "  <tbody>\n",
       "    <tr>\n",
       "      <th>835</th>\n",
       "      <td>1</td>\n",
       "      <td>Compton, Miss. Sara Rebecca</td>\n",
       "      <td>female</td>\n",
       "      <td>39.0</td>\n",
       "      <td>1</td>\n",
       "      <td>1</td>\n",
       "      <td>PC 17756</td>\n",
       "      <td>71254.34</td>\n",
       "      <td>E49</td>\n",
       "      <td>C</td>\n",
       "    </tr>\n",
       "    <tr>\n",
       "      <th>179</th>\n",
       "      <td>1</td>\n",
       "      <td>Compton, Mrs. Alexander Taylor (Mary Eliza Ing...</td>\n",
       "      <td>female</td>\n",
       "      <td>64.0</td>\n",
       "      <td>0</td>\n",
       "      <td>2</td>\n",
       "      <td>PC 17756</td>\n",
       "      <td>71254.34</td>\n",
       "      <td>E45</td>\n",
       "      <td>C</td>\n",
       "    </tr>\n",
       "    <tr>\n",
       "      <th>181</th>\n",
       "      <td>1</td>\n",
       "      <td>Compton, Mr. Alexander Taylor Jr</td>\n",
       "      <td>male</td>\n",
       "      <td>37.0</td>\n",
       "      <td>1</td>\n",
       "      <td>1</td>\n",
       "      <td>PC 17756</td>\n",
       "      <td>71254.34</td>\n",
       "      <td>E52</td>\n",
       "      <td>C</td>\n",
       "    </tr>\n",
       "  </tbody>\n",
       "</table>\n",
       "</div>"
      ],
      "text/plain": [
       "     Pclass                                               Name     Sex   Age  \\\n",
       "835       1                        Compton, Miss. Sara Rebecca  female  39.0   \n",
       "179       1  Compton, Mrs. Alexander Taylor (Mary Eliza Ing...  female  64.0   \n",
       "181       1                   Compton, Mr. Alexander Taylor Jr    male  37.0   \n",
       "\n",
       "     SibSp  Parch    Ticket      Fare Cabin Embarked  \n",
       "835      1      1  PC 17756  71254.34   E49        C  \n",
       "179      0      2  PC 17756  71254.34   E45        C  \n",
       "181      1      1  PC 17756  71254.34   E52        C  "
      ]
     },
     "execution_count": 15,
     "metadata": {},
     "output_type": "execute_result"
    }
   ],
   "source": [
    "#titanic_passg[titanic_passg['Name'].str.contains('Rebecca', na=False)]\n",
    "titanic_passg[titanic_passg['Ticket']=='PC 17756']\n",
    "#titanic_passg[titanic_passg['Age']<=1.]\n",
    "#titanic_passg[titanic_passg['Cabin']=='E49']"
   ]
  }
 ],
 "metadata": {
  "kernelspec": {
   "display_name": "Python 3",
   "language": "python",
   "name": "python3"
  },
  "language_info": {
   "codemirror_mode": {
    "name": "ipython",
    "version": 3
   },
   "file_extension": ".py",
   "mimetype": "text/x-python",
   "name": "python",
   "nbconvert_exporter": "python",
   "pygments_lexer": "ipython3",
   "version": "3.7.12"
  },
  "papermill": {
   "default_parameters": {},
   "duration": 12.638524,
   "end_time": "2022-01-30T20:21:00.247515",
   "environment_variables": {},
   "exception": null,
   "input_path": "__notebook__.ipynb",
   "output_path": "__notebook__.ipynb",
   "parameters": {},
   "start_time": "2022-01-30T20:20:47.608991",
   "version": "2.3.3"
  }
 },
 "nbformat": 4,
 "nbformat_minor": 5
}
